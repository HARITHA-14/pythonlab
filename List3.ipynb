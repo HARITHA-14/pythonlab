{
  "nbformat": 4,
  "nbformat_minor": 0,
  "metadata": {
    "colab": {
      "name": "List3.ipynb",
      "provenance": [],
      "include_colab_link": true
    },
    "kernelspec": {
      "name": "python3",
      "display_name": "Python 3"
    },
    "language_info": {
      "name": "python"
    }
  },
  "cells": [
    {
      "cell_type": "markdown",
      "metadata": {
        "id": "view-in-github",
        "colab_type": "text"
      },
      "source": [
        "<a href=\"https://colab.research.google.com/github/HARITHA-14/pythonlab/blob/main/List3.ipynb\" target=\"_parent\"><img src=\"https://colab.research.google.com/assets/colab-badge.svg\" alt=\"Open In Colab\"/></a>"
      ]
    },
    {
      "cell_type": "markdown",
      "metadata": {
        "id": "JLMIEkEeJCGF"
      },
      "source": [
        "**Print all items in the list, one by one**"
      ]
    },
    {
      "cell_type": "code",
      "metadata": {
        "id": "q2lnGzpuJGlF",
        "colab": {
          "base_uri": "https://localhost:8080/"
        },
        "outputId": "25f9a4c8-81b4-47d6-fcda-79ab5fd4d4d6"
      },
      "source": [
        "thislist = [\"apple\", \"banana\", \"cherry\"]\n",
        "for x in thislist:\n",
        "  print(x)"
      ],
      "execution_count": 2,
      "outputs": [
        {
          "output_type": "stream",
          "name": "stdout",
          "text": [
            "apple\n",
            "banana\n",
            "cherry\n"
          ]
        }
      ]
    },
    {
      "cell_type": "markdown",
      "metadata": {
        "id": "24wlQ3JgJJZ9"
      },
      "source": [
        "**Print all items by referring to their index number**"
      ]
    },
    {
      "cell_type": "code",
      "metadata": {
        "id": "NkdvI-iGJNJN",
        "colab": {
          "base_uri": "https://localhost:8080/"
        },
        "outputId": "80d4a20b-a164-471d-e81d-a67e162abedc"
      },
      "source": [
        "thislist = [\"banana\", \"cherry\",\"kiwi\"]\n",
        "for i in range(len(thislist)):\n",
        "  print(thislist[i])"
      ],
      "execution_count": 16,
      "outputs": [
        {
          "output_type": "stream",
          "name": "stdout",
          "text": [
            "banana\n",
            "cherry\n",
            "kiwi\n"
          ]
        }
      ]
    },
    {
      "cell_type": "markdown",
      "metadata": {
        "id": "AXYQIa5nJSjn"
      },
      "source": [
        "**Print all items, using a while loop to go through all the index numbers**"
      ]
    },
    {
      "cell_type": "code",
      "metadata": {
        "id": "AHFpnhlqJYP_",
        "colab": {
          "base_uri": "https://localhost:8080/"
        },
        "outputId": "64dc6716-0b6e-4f0d-e9c4-3b3381e2b068"
      },
      "source": [
        "thislist = [\"mango\",\"apple\", \"banana\", \"cherry\"]\n",
        "i = 0\n",
        "while i < len(thislist):\n",
        "  print(thislist[i])\n",
        "  i = i + 1"
      ],
      "execution_count": 7,
      "outputs": [
        {
          "output_type": "stream",
          "name": "stdout",
          "text": [
            "mango\n",
            "apple\n",
            "banana\n",
            "cherry\n"
          ]
        }
      ]
    },
    {
      "cell_type": "markdown",
      "metadata": {
        "id": "CbYQiS8sJe9H"
      },
      "source": [
        "**A short hand for loop that will print all items in a list**"
      ]
    },
    {
      "cell_type": "code",
      "metadata": {
        "id": "eQZ5hjl2Jhd4",
        "colab": {
          "base_uri": "https://localhost:8080/"
        },
        "outputId": "28b77161-5f17-4d01-86ef-6cd7854704cb"
      },
      "source": [
        "thislist = [\"apple\", \"banana\", \"cherry\"]\n",
        "x=\"apple\"\n",
        "[print(x) for x in thislist]"
      ],
      "execution_count": 18,
      "outputs": [
        {
          "output_type": "stream",
          "name": "stdout",
          "text": [
            "apple\n",
            "banana\n",
            "cherry\n"
          ]
        },
        {
          "output_type": "execute_result",
          "data": {
            "text/plain": [
              "[None, None, None]"
            ]
          },
          "metadata": {},
          "execution_count": 18
        }
      ]
    },
    {
      "cell_type": "markdown",
      "metadata": {
        "id": "z9_ILGGXJj-Y"
      },
      "source": [
        "**Sort the list alphabetically**"
      ]
    },
    {
      "cell_type": "code",
      "metadata": {
        "id": "NcUG1ciFJuNj",
        "colab": {
          "base_uri": "https://localhost:8080/"
        },
        "outputId": "8e386ec3-ed2e-4797-86c2-2ac8867398d9"
      },
      "source": [
        "thislist = [\"orange\", \"mango\", \"kiwi\", \"pineapple\", \"banana\"]\n",
        "thislist.sort()\n",
        "print(thislist)\n"
      ],
      "execution_count": 21,
      "outputs": [
        {
          "output_type": "stream",
          "name": "stdout",
          "text": [
            "['banana', 'kiwi', 'mango', 'orange', 'pineapple']\n"
          ]
        }
      ]
    },
    {
      "cell_type": "markdown",
      "metadata": {
        "id": "6Uy_x9j7Jw6D"
      },
      "source": [
        "**Sort the list numerically**"
      ]
    },
    {
      "cell_type": "code",
      "metadata": {
        "id": "nV6NvXX6J0-E",
        "colab": {
          "base_uri": "https://localhost:8080/"
        },
        "outputId": "c73fb9d1-390a-40ba-d5ea-726d8e45b36c"
      },
      "source": [
        "thislist = [100, 50, 65, 82, 23]\n",
        "thislist.sort()\n",
        "print(thislist)"
      ],
      "execution_count": 20,
      "outputs": [
        {
          "output_type": "stream",
          "name": "stdout",
          "text": [
            "[23, 50, 65, 82, 100]\n"
          ]
        }
      ]
    },
    {
      "cell_type": "markdown",
      "metadata": {
        "id": "s64CqSSqJ4Xc"
      },
      "source": [
        "**Sort the list descending**"
      ]
    },
    {
      "cell_type": "code",
      "metadata": {
        "id": "A_sAJANBJ8S9",
        "colab": {
          "base_uri": "https://localhost:8080/"
        },
        "outputId": "9623e579-bc5d-41d2-d5f5-7fedfc0e69be"
      },
      "source": [
        "thislist = [\"orange\", \"mango\", \"kiwi\", \"pineapple\", \"banana\"]\n",
        "thislist.sort(reverse = True)\n",
        "print(thislist)"
      ],
      "execution_count": 19,
      "outputs": [
        {
          "output_type": "stream",
          "name": "stdout",
          "text": [
            "['pineapple', 'orange', 'mango', 'kiwi', 'banana']\n"
          ]
        }
      ]
    },
    {
      "cell_type": "markdown",
      "metadata": {
        "id": "43h7mdHOKDNG"
      },
      "source": [
        "**Sort the list descending**"
      ]
    },
    {
      "cell_type": "code",
      "metadata": {
        "id": "iF7zLeZQKF6F"
      },
      "source": [
        "thislist = [100, 50, 65, 82, 23]\n",
        "thislist.sort(reverse = True)\n",
        "print(thislist)"
      ],
      "execution_count": null,
      "outputs": []
    },
    {
      "cell_type": "markdown",
      "metadata": {
        "id": "6GsgZ5TLKUQ3"
      },
      "source": [
        "**Sort the list based on how close the number is to 50**"
      ]
    },
    {
      "cell_type": "code",
      "metadata": {
        "id": "csduLN4UKX0D",
        "colab": {
          "base_uri": "https://localhost:8080/"
        },
        "outputId": "fc850efa-87f8-4054-e3fe-94d935bd046d"
      },
      "source": [
        "def myfunc(n):\n",
        "  return abs(n - 50)\n",
        "\n",
        "thislist = [100, 50, 65, 82, 23]\n",
        "thislist.sort(key = myfunc)\n",
        "print(thislist)"
      ],
      "execution_count": 11,
      "outputs": [
        {
          "output_type": "stream",
          "name": "stdout",
          "text": [
            "[50, 65, 23, 82, 100]\n"
          ]
        }
      ]
    },
    {
      "cell_type": "markdown",
      "metadata": {
        "id": "1isojn_dKlN6"
      },
      "source": [
        "**Case sensitive sorting can give an unexpected result**"
      ]
    },
    {
      "cell_type": "code",
      "metadata": {
        "id": "DX62Up2NKokT",
        "colab": {
          "base_uri": "https://localhost:8080/"
        },
        "outputId": "bf10ad8f-7942-4898-a141-cd66add69a50"
      },
      "source": [
        "thislist = [\"banana\", \"Orange\", \"Kiwi\", \"cherry\"]\n",
        "thislist.sort()\n",
        "print(thislist)"
      ],
      "execution_count": 13,
      "outputs": [
        {
          "output_type": "stream",
          "name": "stdout",
          "text": [
            "['Kiwi', 'Orange', 'banana', 'cherry']\n"
          ]
        }
      ]
    },
    {
      "cell_type": "markdown",
      "metadata": {
        "id": "EJjV9KkkKtjy"
      },
      "source": [
        "**Perform a case-insensitive sort of the list**"
      ]
    },
    {
      "cell_type": "code",
      "metadata": {
        "id": "nz42z31WKwsT"
      },
      "source": [
        "thislist = [\"banana\", \"Orange\", \"Kiwi\", \"cherry\"]\n",
        "thislist.sort(key = str.lower)\n",
        "print(thislist)"
      ],
      "execution_count": null,
      "outputs": []
    },
    {
      "cell_type": "markdown",
      "metadata": {
        "id": "aQpfTA5BK7MT"
      },
      "source": [
        "**Reverse the order of the list items**"
      ]
    },
    {
      "cell_type": "code",
      "metadata": {
        "id": "N1vtjrrRK-pM"
      },
      "source": [
        "thislist = [\"banana\", \"Orange\", \"Kiwi\", \"cherry\"]\n",
        "thislist.reverse()\n",
        "print(thislist)"
      ],
      "execution_count": null,
      "outputs": []
    },
    {
      "cell_type": "markdown",
      "metadata": {
        "id": "K3UD8xqwLJnO"
      },
      "source": [
        "**Make a copy of a list with the copy() method**"
      ]
    },
    {
      "cell_type": "code",
      "metadata": {
        "id": "4bkBVXgzLN1-",
        "colab": {
          "base_uri": "https://localhost:8080/"
        },
        "outputId": "23e1e47b-0f39-4296-d6f7-ebed91d8e53c"
      },
      "source": [
        "thislist = [\"apple\", \"banana\", \"cherry\"]\n",
        "mylist = thislist.copy()\n",
        "print(mylist)"
      ],
      "execution_count": 29,
      "outputs": [
        {
          "output_type": "stream",
          "name": "stdout",
          "text": [
            "['apple', 'banana', 'cherry']\n"
          ]
        }
      ]
    },
    {
      "cell_type": "markdown",
      "metadata": {
        "id": "ka9h6QLcLSvm"
      },
      "source": [
        "**Make a copy of a list with the list() method**"
      ]
    },
    {
      "cell_type": "code",
      "metadata": {
        "id": "GCJL4kJcRNrb",
        "colab": {
          "base_uri": "https://localhost:8080/"
        },
        "outputId": "59b7b1a7-1ad6-4ae9-d139-0102d9341d43"
      },
      "source": [
        "thislist = [\"apple\", \"banana\", \"cherry\",\"3*5\"]\n",
        "mylist =[\"1\",\"2\",\"3\"]\n",
        "mylist = list(thislist)\n",
        "print(mylist)"
      ],
      "execution_count": 34,
      "outputs": [
        {
          "output_type": "stream",
          "name": "stdout",
          "text": [
            "['apple', 'banana', 'cherry', '3*5']\n"
          ]
        }
      ]
    },
    {
      "cell_type": "markdown",
      "metadata": {
        "id": "s0x0BTh9Lc4x"
      },
      "source": [
        "**Join two list**"
      ]
    },
    {
      "cell_type": "code",
      "metadata": {
        "id": "LbGRuuz7Le8b",
        "colab": {
          "base_uri": "https://localhost:8080/"
        },
        "outputId": "0d6bcbec-20be-4456-bfc3-36f7d7c48de1"
      },
      "source": [
        "list1 = [\"3\", \"4\", \"5\"]\n",
        "list2 = [\"1\", \"2\", \"3\"]\n",
        "\n",
        "list3 = list1 + list2\n",
        "print(list3)"
      ],
      "execution_count": 27,
      "outputs": [
        {
          "output_type": "stream",
          "name": "stdout",
          "text": [
            "['3', '4', '5', '1', '2', '3']\n"
          ]
        }
      ]
    },
    {
      "cell_type": "markdown",
      "metadata": {
        "id": "jIe_BtpjLkXB"
      },
      "source": [
        "**Append list2 into list1**"
      ]
    },
    {
      "cell_type": "code",
      "metadata": {
        "id": "StFQymm-Lmfr",
        "colab": {
          "base_uri": "https://localhost:8080/"
        },
        "outputId": "39d90bf9-04c8-4b16-d828-3924f3d4fef7"
      },
      "source": [
        "list1 = [\"a\", \"b\" , \"c\"]\n",
        "list2 = [1, 2, 3]\n",
        "\n",
        "for x in list2:\n",
        "  list1.append(x)\n",
        "\n",
        "print(list1)"
      ],
      "execution_count": 32,
      "outputs": [
        {
          "output_type": "stream",
          "name": "stdout",
          "text": [
            "['a', 'b', 'c', 1, 2, 3]\n"
          ]
        }
      ]
    },
    {
      "cell_type": "markdown",
      "metadata": {
        "id": "7lgR4QkYLs8T"
      },
      "source": [
        "**Use the extend() method to add list2 at the end of list1**"
      ]
    },
    {
      "cell_type": "code",
      "metadata": {
        "id": "Ugac1XuQLxqr",
        "colab": {
          "base_uri": "https://localhost:8080/"
        },
        "outputId": "cfe11d53-74be-4c85-8f33-1db5b47557f8"
      },
      "source": [
        "list1 = [\"a\", \"b\" , \"c\"]\n",
        "list2 = [1, 2, 3]\n",
        "\n",
        "list2.extend(list1)\n",
        "print(list2)"
      ],
      "execution_count": 33,
      "outputs": [
        {
          "output_type": "stream",
          "name": "stdout",
          "text": [
            "[1, 2, 3, 'a', 'b', 'c']\n"
          ]
        }
      ]
    },
    {
      "cell_type": "code",
      "source": [
        "thislist = [\"apple\",\"banana\",\"blueberry\"]\n",
        "mylist = [\"dharshini\"]\n",
        "thislist.extend(mylist)\n",
        "print(thislist)"
      ],
      "metadata": {
        "colab": {
          "base_uri": "https://localhost:8080/"
        },
        "id": "3Q0WrZB3FEz0",
        "outputId": "39bc680a-7a1d-4631-e828-c306e8cb5ac9"
      },
      "execution_count": 38,
      "outputs": [
        {
          "output_type": "stream",
          "name": "stdout",
          "text": [
            "['apple', 'banana', 'blueberry', 'dharshini']\n"
          ]
        }
      ]
    }
  ]
}