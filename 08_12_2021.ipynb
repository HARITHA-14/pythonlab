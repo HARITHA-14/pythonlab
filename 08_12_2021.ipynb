{
  "nbformat": 4,
  "nbformat_minor": 0,
  "metadata": {
    "colab": {
      "name": "08.12.2021.ipynb",
      "provenance": [],
      "include_colab_link": true
    },
    "kernelspec": {
      "name": "python3",
      "display_name": "Python 3"
    },
    "language_info": {
      "name": "python"
    }
  },
  "cells": [
    {
      "cell_type": "markdown",
      "metadata": {
        "id": "view-in-github",
        "colab_type": "text"
      },
      "source": [
        "<a href=\"https://colab.research.google.com/github/HARITHA-14/pythonlab/blob/main/08_12_2021.ipynb\" target=\"_parent\"><img src=\"https://colab.research.google.com/assets/colab-badge.svg\" alt=\"Open In Colab\"/></a>"
      ]
    },
    {
      "cell_type": "markdown",
      "metadata": {
        "id": "-YyQsmNaWwdM"
      },
      "source": [
        "**Change the second item**"
      ]
    },
    {
      "cell_type": "code",
      "metadata": {
        "id": "IvE8m-xZW3Tc",
        "colab": {
          "base_uri": "https://localhost:8080/"
        },
        "outputId": "32692ead-680d-4ca6-9fab-67f1176b1fb2"
      },
      "source": [
        "thislist = [\"apple\", \"banana\", \"cherry\"]\n",
        "thislist[1] = \"blackcurrant\"\n",
        "print(thislist)"
      ],
      "execution_count": 1,
      "outputs": [
        {
          "output_type": "stream",
          "name": "stdout",
          "text": [
            "['apple', 'blackcurrant', 'cherry']\n"
          ]
        }
      ]
    },
    {
      "cell_type": "code",
      "source": [
        "thislist=[\"apple\",\"banana\",\"cherry\"]\n",
        "thislist[2]=\"mango\"\n",
        "print(thislist)"
      ],
      "metadata": {
        "colab": {
          "base_uri": "https://localhost:8080/"
        },
        "id": "KVZ_j5OP5ZzQ",
        "outputId": "ea42e50b-826c-48a0-e12d-72ff63b5e695"
      },
      "execution_count": 2,
      "outputs": [
        {
          "output_type": "stream",
          "name": "stdout",
          "text": [
            "['apple', 'banana', 'mango']\n"
          ]
        }
      ]
    },
    {
      "cell_type": "markdown",
      "metadata": {
        "id": "yZvbwFKVW528"
      },
      "source": [
        "**Change the values \"banana\" and \"cherry\" with the values \"blackcurrant\" and \"watermelon\"**"
      ]
    },
    {
      "cell_type": "code",
      "metadata": {
        "id": "C3UB9JGXW9hd",
        "colab": {
          "base_uri": "https://localhost:8080/"
        },
        "outputId": "81155ba5-486f-4ebd-9e6d-ca72f6414b06"
      },
      "source": [
        "thislist = [\"apple\", \"banana\", \"cherry\", \"orange\", \"kiwi\", \"mango\"]\n",
        "thislist[1:3] = [\"blackcurrant\", \"watermelon\"]\n",
        "print(thislist)"
      ],
      "execution_count": 3,
      "outputs": [
        {
          "output_type": "stream",
          "name": "stdout",
          "text": [
            "['apple', 'blackcurrant', 'watermelon', 'orange', 'kiwi', 'mango']\n"
          ]
        }
      ]
    },
    {
      "cell_type": "code",
      "source": [
        "thislist=[\"banana\",\"cherry\",\"mango\",\"grapes\"]\n",
        "thislist[2:3]=\"balackcurrent\",\"watermelon\"\n",
        "print(thislist)"
      ],
      "metadata": {
        "colab": {
          "base_uri": "https://localhost:8080/"
        },
        "id": "4wXcyQDD6Gzs",
        "outputId": "7ae0ee40-c9cf-4d36-cf7b-dd978c725910"
      },
      "execution_count": 9,
      "outputs": [
        {
          "output_type": "stream",
          "name": "stdout",
          "text": [
            "['banana', 'cherry', 'balackcurrent', 'watermelon', 'grapes']\n"
          ]
        }
      ]
    },
    {
      "cell_type": "markdown",
      "metadata": {
        "id": "QV99JD6UXA7O"
      },
      "source": [
        "**Change the second value by replacing it with two new values**"
      ]
    },
    {
      "cell_type": "code",
      "metadata": {
        "id": "OqG9T2-AXFqW"
      },
      "source": [
        "thislist = [\"apple\", \"banana\", \"cherry\"]\n",
        "thislist[1:2] = [\"blackcurrant\", \"watermelon\"]\n",
        "print(thislist)"
      ],
      "execution_count": null,
      "outputs": []
    },
    {
      "cell_type": "code",
      "source": [
        "thislist=[\"1\",\"2\",\"3\",\"4\",\"5\"]\n",
        "thislist[3:5]=[\"7\",\"8\"]\n",
        "print(thislist)"
      ],
      "metadata": {
        "colab": {
          "base_uri": "https://localhost:8080/"
        },
        "id": "z5Op-4577H9Y",
        "outputId": "fe5df736-a5ca-40ec-c99b-b99773c5b7a7"
      },
      "execution_count": 14,
      "outputs": [
        {
          "output_type": "stream",
          "name": "stdout",
          "text": [
            "['1', '2', '3', '7', '8']\n"
          ]
        }
      ]
    },
    {
      "cell_type": "markdown",
      "metadata": {
        "id": "RClXUItjXIfW"
      },
      "source": [
        "**Change the second and third value by replacing it with one value**"
      ]
    },
    {
      "cell_type": "code",
      "metadata": {
        "id": "CCZ_FU47XL_g",
        "colab": {
          "base_uri": "https://localhost:8080/"
        },
        "outputId": "5b6a2278-3a04-4b31-db4b-efc611ed8266"
      },
      "source": [
        "thislist = [\"apple\", \"banana\", \"cherry\"]\n",
        "thislist[1:3] = [\"watermelon\"]\n",
        "print(thislist)"
      ],
      "execution_count": 12,
      "outputs": [
        {
          "output_type": "stream",
          "name": "stdout",
          "text": [
            "['apple', 'watermelon']\n"
          ]
        }
      ]
    },
    {
      "cell_type": "code",
      "source": [
        "thislist=[\"apple\",\"cherry\",\"mango\"]\n",
        "thislist[2:3]=[\"watermelon\"]\n",
        "print(thislist)"
      ],
      "metadata": {
        "colab": {
          "base_uri": "https://localhost:8080/"
        },
        "id": "L4HKeVkF7qJs",
        "outputId": "c6003e91-dc34-499d-e409-a67ffdb3f422"
      },
      "execution_count": 20,
      "outputs": [
        {
          "output_type": "stream",
          "name": "stdout",
          "text": [
            "['apple', 'cherry', 'watermelon']\n"
          ]
        }
      ]
    },
    {
      "cell_type": "markdown",
      "metadata": {
        "id": "wGZg4KukXS_Q"
      },
      "source": [
        "**Insert \"watermelon\" as the third item**"
      ]
    },
    {
      "cell_type": "code",
      "metadata": {
        "id": "ykOgAW01XV_6"
      },
      "source": [
        "thislist = [\"apple\", \"banana\", \"cherry\"]\n",
        "thislist.insert(2, \"watermelon\")\n",
        "print(thislist)"
      ],
      "execution_count": null,
      "outputs": []
    },
    {
      "cell_type": "markdown",
      "metadata": {
        "id": "8Cf94GsmXd9w"
      },
      "source": [
        "**Using the append() method to append an item**"
      ]
    },
    {
      "cell_type": "code",
      "metadata": {
        "id": "FfTNxuaSXe9T",
        "colab": {
          "base_uri": "https://localhost:8080/"
        },
        "outputId": "f47aabcc-8c36-49a4-ee05-f9e452762f4f"
      },
      "source": [
        "thislist = [\"apple\", \"banana\", \"cherry\"]\n",
        "thislist.append(\"orange\")\n",
        "print(thislist)"
      ],
      "execution_count": 21,
      "outputs": [
        {
          "output_type": "stream",
          "name": "stdout",
          "text": [
            "['apple', 'banana', 'cherry', 'orange']\n"
          ]
        }
      ]
    },
    {
      "cell_type": "code",
      "source": [
        "thislist=[\"apple\",\"banana\",\"cherry\"]\n",
        "thislist.append(\"mango\")\n",
        "print(thislist)"
      ],
      "metadata": {
        "colab": {
          "base_uri": "https://localhost:8080/"
        },
        "id": "5Uc0FTis9dRQ",
        "outputId": "dcada2eb-5daf-4a7f-e548-4d2d1485fdca"
      },
      "execution_count": 23,
      "outputs": [
        {
          "output_type": "stream",
          "name": "stdout",
          "text": [
            "['apple', 'banana', 'cherry', 'mango']\n"
          ]
        }
      ]
    },
    {
      "cell_type": "markdown",
      "metadata": {
        "id": "0uPZneHNXieS"
      },
      "source": [
        "**Insert an item as the second position**"
      ]
    },
    {
      "cell_type": "code",
      "metadata": {
        "id": "P2DhwDX_Xnja",
        "colab": {
          "base_uri": "https://localhost:8080/"
        },
        "outputId": "159dd4d7-b0f6-4544-c4b9-edbeaf5ca032"
      },
      "source": [
        "thislist = [\"apple\", \"banana\", \"cherry\"]\n",
        "thislist.insert(2, \"orange\")\n",
        "print(thislist)"
      ],
      "execution_count": 26,
      "outputs": [
        {
          "output_type": "stream",
          "name": "stdout",
          "text": [
            "['apple', 'banana', 'orange', 'cherry']\n"
          ]
        }
      ]
    },
    {
      "cell_type": "markdown",
      "metadata": {
        "id": "Lkvo8653XwPr"
      },
      "source": [
        "**Add the elements of tropical to thislist**"
      ]
    },
    {
      "cell_type": "code",
      "metadata": {
        "colab": {
          "base_uri": "https://localhost:8080/"
        },
        "id": "z1cHg_FZXxD8",
        "outputId": "c6288fb6-a19d-426e-dac4-6e3eca35a1e7"
      },
      "source": [
        "thislist = [\"apple\", \"banana\", \"cherry\"]\n",
        "tropical = [\"mango\", \"pineapple\", \"papaya\",\"grape\"]\n",
        "thislist.extend(tropical)\n",
        "print(thislist)"
      ],
      "execution_count": 27,
      "outputs": [
        {
          "output_type": "stream",
          "name": "stdout",
          "text": [
            "['apple', 'banana', 'cherry', 'mango', 'pineapple', 'papaya', 'grape']\n"
          ]
        }
      ]
    },
    {
      "cell_type": "markdown",
      "metadata": {
        "id": "JcRhSjrkX0Tk"
      },
      "source": [
        "**Add elements of a tuple to a list**"
      ]
    },
    {
      "cell_type": "code",
      "metadata": {
        "id": "cL3YRLtbX721"
      },
      "source": [
        "thislist = [\"apple\", \"banana\", \"cherry\"]\n",
        "thistuple = (\"kiwi\", \"orange\")\n",
        "thislist.extend(thistuple)\n",
        "print(thislist)"
      ],
      "execution_count": null,
      "outputs": []
    },
    {
      "cell_type": "markdown",
      "metadata": {
        "id": "_YdmMAHHY0MW"
      },
      "source": [
        "**Remove \"banana\"**"
      ]
    },
    {
      "cell_type": "code",
      "metadata": {
        "id": "IMRo3OO8Y0_Y"
      },
      "source": [
        "thislist = [\"apple\", \"banana\", \"cherry\"]\n",
        "thislist.remove(\"banana\")\n",
        "print(thislist)"
      ],
      "execution_count": null,
      "outputs": []
    },
    {
      "cell_type": "markdown",
      "metadata": {
        "id": "RL1yqvcyY7pJ"
      },
      "source": [
        "**Remove the second item**"
      ]
    },
    {
      "cell_type": "code",
      "source": [
        "thislist = [\"apple\", \"banana\", \"cherry\"]\n",
        "thislist.pop(1)\n",
        "print(thislist)"
      ],
      "metadata": {
        "id": "hlEaG6h73TZu"
      },
      "execution_count": null,
      "outputs": []
    },
    {
      "cell_type": "markdown",
      "metadata": {
        "id": "F-vXbvANZAgv"
      },
      "source": [
        "**Remove the last item**"
      ]
    },
    {
      "cell_type": "code",
      "metadata": {
        "id": "pAU4yrjrZFcR"
      },
      "source": [
        "thislist = [\"apple\", \"banana\", \"cherry\"]\n",
        "thislist.pop()\n",
        "print(thislist)"
      ],
      "execution_count": null,
      "outputs": []
    },
    {
      "cell_type": "markdown",
      "metadata": {
        "id": "ttZEAj2zZLTS"
      },
      "source": [
        "**Remove the first item**"
      ]
    },
    {
      "cell_type": "code",
      "metadata": {
        "id": "u06Q5aqIZNHw"
      },
      "source": [
        "thislist = [\"apple\", \"banana\", \"cherry\"]\n",
        "del thislist[0]\n",
        "print(thislist)"
      ],
      "execution_count": null,
      "outputs": []
    },
    {
      "cell_type": "markdown",
      "metadata": {
        "id": "OePXvbL-ZQlA"
      },
      "source": [
        "**Delete the entire list**"
      ]
    },
    {
      "cell_type": "code",
      "metadata": {
        "id": "bpkJARhbZT9p"
      },
      "source": [
        "thislist = [\"apple\", \"banana\", \"cherry\"]\n",
        "del thislist"
      ],
      "execution_count": null,
      "outputs": []
    },
    {
      "cell_type": "markdown",
      "metadata": {
        "id": "yU7tde6lZWn5"
      },
      "source": [
        "**Clear the list content**"
      ]
    },
    {
      "cell_type": "code",
      "metadata": {
        "colab": {
          "base_uri": "https://localhost:8080/"
        },
        "id": "e3SrhCgFZbN7",
        "outputId": "726a3717-f5ae-418d-87c0-010095c6c970"
      },
      "source": [
        "thislist = [\"apple\", \"banana\", \"cherry\"]\n",
        "thislist.clear()\n",
        "print(thislist)"
      ],
      "execution_count": null,
      "outputs": [
        {
          "output_type": "stream",
          "name": "stdout",
          "text": [
            "[]\n"
          ]
        }
      ]
    }
  ]
}