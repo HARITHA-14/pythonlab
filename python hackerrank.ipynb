{
  "nbformat": 4,
  "nbformat_minor": 0,
  "metadata": {
    "colab": {
      "name": "Untitled11.ipynb",
      "provenance": [],
      "authorship_tag": "ABX9TyOzw/C6EFN+ociNmDBN3Cxk",
      "include_colab_link": true
    },
    "kernelspec": {
      "name": "python3",
      "display_name": "Python 3"
    },
    "language_info": {
      "name": "python"
    }
  },
  "cells": [
    {
      "cell_type": "markdown",
      "metadata": {
        "id": "view-in-github",
        "colab_type": "text"
      },
      "source": [
        "<a href=\"https://colab.research.google.com/github/HARITHA-14/pythonlab/blob/main/python%20hackerrank.ipynb\" target=\"_parent\"><img src=\"https://colab.research.google.com/assets/colab-badge.svg\" alt=\"Open In Colab\"/></a>"
      ]
    },
    {
      "cell_type": "code",
      "execution_count": null,
      "metadata": {
        "id": "kLkRgtGrHjOm"
      },
      "outputs": [],
      "source": [
        "'''The included code stub will read an integer, , from STDIN.\n",
        "\n",
        "Without using any string methods, try to print the following:\n",
        "\n",
        "\n",
        "Note that \"\" represents the consecutive values in between.'''\n",
        "\n",
        "\n",
        "#solution:\n"
      ]
    },
    {
      "cell_type": "code",
      "source": [
        "if __name__ == '__main__':\n",
        "    n = int(input())\n",
        "for i in range(n):\n",
        "    print(i+1,end=\"\")\n",
        " "
      ],
      "metadata": {
        "colab": {
          "base_uri": "https://localhost:8080/"
        },
        "id": "SVob9sluH2Ij",
        "outputId": "9ee51d2b-7112-4661-e763-08310cc77d34"
      },
      "execution_count": null,
      "outputs": [
        {
          "output_type": "stream",
          "name": "stdout",
          "text": [
            "5\n",
            "12345"
          ]
        }
      ]
    },
    {
      "cell_type": "code",
      "source": [
        " #Python program showing\n",
        "# how to take multiple input\n",
        "# using List comprehension\n",
        "  \n",
        "# taking two input at a time\n",
        "x, y = [int(x) for x in input(\"Enter two values: \").split()]\n",
        "print(\"First Number is: \", x)\n",
        "print(\"Second Number is: \", y)\n",
        "print()\n",
        "  \n"
      ],
      "metadata": {
        "colab": {
          "base_uri": "https://localhost:8080/"
        },
        "id": "-PeHlSHUgSJV",
        "outputId": "222363d8-ac6f-482b-db1b-feeb8f09834d"
      },
      "execution_count": 1,
      "outputs": [
        {
          "output_type": "stream",
          "name": "stdout",
          "text": [
            "Enter two values: 5 6\n",
            "First Number is:  5\n",
            "Second Number is:  6\n",
            "\n"
          ]
        }
      ]
    },
    {
      "cell_type": "code",
      "source": [
        "# taking three input at a time\n",
        "x, y, z = [int(x) for x in input(\"Enter three values: \").split()]\n",
        "print(\"First Number is: \", x)\n",
        "print(\"Second Number is: \", y)\n",
        "print(\"Third Number is: \", z)\n",
        "print()"
      ],
      "metadata": {
        "colab": {
          "base_uri": "https://localhost:8080/"
        },
        "id": "lx-quvOZgnCQ",
        "outputId": "53ec3fa6-e1e0-4abf-8c07-b67e84a32648"
      },
      "execution_count": 3,
      "outputs": [
        {
          "output_type": "stream",
          "name": "stdout",
          "text": [
            "Enter three values: 3 4 6\n",
            "First Number is:  3\n",
            "Second Number is:  4\n",
            "Third Number is:  6\n",
            "\n"
          ]
        }
      ]
    }
  ]
}