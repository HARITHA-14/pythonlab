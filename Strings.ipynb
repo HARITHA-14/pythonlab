{
  "nbformat": 4,
  "nbformat_minor": 0,
  "metadata": {
    "colab": {
      "name": "Strings.ipynb",
      "provenance": [],
      "include_colab_link": true
    },
    "kernelspec": {
      "name": "python3",
      "display_name": "Python 3"
    },
    "language_info": {
      "name": "python"
    }
  },
  "cells": [
    {
      "cell_type": "markdown",
      "metadata": {
        "id": "view-in-github",
        "colab_type": "text"
      },
      "source": [
        "<a href=\"https://colab.research.google.com/github/HARITHA-14/pythonlab/blob/main/Strings.ipynb\" target=\"_parent\"><img src=\"https://colab.research.google.com/assets/colab-badge.svg\" alt=\"Open In Colab\"/></a>"
      ]
    },
    {
      "cell_type": "code",
      "metadata": {
        "id": "qfWnbPxLMbj-",
        "colab": {
          "base_uri": "https://localhost:8080/"
        },
        "outputId": "f5cb4ea7-db08-4c91-ad4d-5b26127ed130"
      },
      "source": [
        "print(\"Hello\")\n",
        "print(\"hi\")"
      ],
      "execution_count": 2,
      "outputs": [
        {
          "output_type": "stream",
          "name": "stdout",
          "text": [
            "Hello\n",
            "hi\n"
          ]
        }
      ]
    },
    {
      "cell_type": "code",
      "metadata": {
        "id": "B3QGPyHTMipU",
        "colab": {
          "base_uri": "https://localhost:8080/"
        },
        "outputId": "e5cb4183-4e5b-427a-d538-8da0d60ee81c"
      },
      "source": [
        "a = \"Hello\"\n",
        "print(a)"
      ],
      "execution_count": 3,
      "outputs": [
        {
          "output_type": "stream",
          "name": "stdout",
          "text": [
            "Hello\n"
          ]
        }
      ]
    },
    {
      "cell_type": "code",
      "metadata": {
        "id": "68YQU7gZMlG1",
        "colab": {
          "base_uri": "https://localhost:8080/"
        },
        "outputId": "8d2753d1-46e5-43ca-9d68-a27c62597ea4"
      },
      "source": [
        "b = \"\"\"Lorem ipsum dolor sit amet,\n",
        "consectetur adipiscing elit,\n",
        "sed do eiusmod tempor incididunt\n",
        "ut labore et dolore magna aliqua.\"\"\"\n",
        "print(a)\n",
        "print(len(b))"
      ],
      "execution_count": 27,
      "outputs": [
        {
          "output_type": "stream",
          "name": "stdout",
          "text": [
            "[1, 2, 3]\n",
            "123\n"
          ]
        }
      ]
    },
    {
      "cell_type": "code",
      "metadata": {
        "id": "nLUGph94Mrgl",
        "colab": {
          "base_uri": "https://localhost:8080/"
        },
        "outputId": "29f1953a-b4e5-4dd8-c2d8-2a7d0e2822b1"
      },
      "source": [
        "a = '''Lorem ipsum dolor sit amet,\n",
        "consectetur adipiscing elit,\n",
        "sed do eiusmod tempor incididunt\n",
        "ut labore et dolore magna aliqua.'''\n",
        "print(a)"
      ],
      "execution_count": 6,
      "outputs": [
        {
          "output_type": "stream",
          "name": "stdout",
          "text": [
            "Lorem ipsum dolor sit amet,\n",
            "consectetur adipiscing elit,\n",
            "sed do eiusmod tempor incididunt\n",
            "ut labore et dolore magna aliqua.\n"
          ]
        }
      ]
    },
    {
      "cell_type": "code",
      "metadata": {
        "id": "YjUeGU6tMvW9",
        "colab": {
          "base_uri": "https://localhost:8080/"
        },
        "outputId": "fff1c8c4-1656-4cd4-84fd-b4397f545569"
      },
      "source": [
        "a = \"Hello, World!\"\n",
        "print(a[2])"
      ],
      "execution_count": 9,
      "outputs": [
        {
          "output_type": "stream",
          "name": "stdout",
          "text": [
            "l\n"
          ]
        }
      ]
    },
    {
      "cell_type": "code",
      "metadata": {
        "id": "dj6Jmi3iMx8t",
        "colab": {
          "base_uri": "https://localhost:8080/"
        },
        "outputId": "23bc05f0-b39f-4f05-a7b2-59913fc82736"
      },
      "source": [
        "for x in \"haritha\":\n",
        "  print(x)"
      ],
      "execution_count": 11,
      "outputs": [
        {
          "output_type": "stream",
          "name": "stdout",
          "text": [
            "h\n",
            "a\n",
            "r\n",
            "i\n",
            "t\n",
            "h\n",
            "a\n"
          ]
        }
      ]
    },
    {
      "cell_type": "code",
      "metadata": {
        "id": "DEEA1UCDM0lV",
        "colab": {
          "base_uri": "https://localhost:8080/"
        },
        "outputId": "1c6fbeaa-3f21-4ab1-c220-f12e6b2106b1"
      },
      "source": [
        "a = \"Hello,   World\"\n",
        "print(len(a))"
      ],
      "execution_count": 13,
      "outputs": [
        {
          "output_type": "stream",
          "name": "stdout",
          "text": [
            "14\n"
          ]
        }
      ]
    },
    {
      "cell_type": "code",
      "metadata": {
        "id": "tqqfNbmxM4S2",
        "colab": {
          "base_uri": "https://localhost:8080/"
        },
        "outputId": "731ad665-fa8e-4459-9e9a-f4c5c261f192"
      },
      "source": [
        "txt = \"The best things in life are beautiful!\"\n",
        "print(\"free\" in txt)"
      ],
      "execution_count": 15,
      "outputs": [
        {
          "output_type": "stream",
          "name": "stdout",
          "text": [
            "False\n"
          ]
        }
      ]
    },
    {
      "cell_type": "code",
      "metadata": {
        "id": "DdiknJ49M5zI",
        "colab": {
          "base_uri": "https://localhost:8080/"
        },
        "outputId": "bc2c1b78-77da-4a2c-ef3e-9856bdd8db8b"
      },
      "source": [
        "txt = \"The best things in life are free!\"\n",
        "if \"best\" in txt:\n",
        "  print(\"Yes, 'best' is present.\")"
      ],
      "execution_count": 18,
      "outputs": [
        {
          "output_type": "stream",
          "name": "stdout",
          "text": [
            "Yes, 'best' is present.\n"
          ]
        }
      ]
    },
    {
      "cell_type": "code",
      "metadata": {
        "id": "Vtq16Be_M-DH",
        "colab": {
          "base_uri": "https://localhost:8080/"
        },
        "outputId": "8810ccd7-7ab6-4563-df5e-bd7aead50a69"
      },
      "source": [
        "txt = \"The best things in life are free!\"\n",
        "print(\"expensive\" not in txt)"
      ],
      "execution_count": 17,
      "outputs": [
        {
          "output_type": "stream",
          "name": "stdout",
          "text": [
            "True\n"
          ]
        }
      ]
    },
    {
      "cell_type": "code",
      "metadata": {
        "id": "iWijH4Q4NBmy",
        "colab": {
          "base_uri": "https://localhost:8080/"
        },
        "outputId": "e7464ab4-4a0b-4dae-baf8-3a17af171cce"
      },
      "source": [
        "txt = \"The best things in life are free!\"\n",
        "if \"best\"  in txt:\n",
        "  print(\"No, 'best' is NOT present.\")"
      ],
      "execution_count": 23,
      "outputs": [
        {
          "output_type": "stream",
          "name": "stdout",
          "text": [
            "No, 'best' is NOT present.\n"
          ]
        }
      ]
    },
    {
      "cell_type": "code",
      "source": [
        "a=[1,2,3]\n",
        "print((len(a)))"
      ],
      "metadata": {
        "colab": {
          "base_uri": "https://localhost:8080/"
        },
        "id": "MRw2rVr9C4f3",
        "outputId": "8d4da7ae-1f0a-4649-be0c-71e3c0eca032"
      },
      "execution_count": 24,
      "outputs": [
        {
          "output_type": "stream",
          "name": "stdout",
          "text": [
            "3\n"
          ]
        }
      ]
    }
  ]
}