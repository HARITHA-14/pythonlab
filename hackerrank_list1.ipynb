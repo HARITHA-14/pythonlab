{
  "nbformat": 4,
  "nbformat_minor": 0,
  "metadata": {
    "colab": {
      "name": "hackerrank list1.ipynb",
      "provenance": [],
      "authorship_tag": "ABX9TyMZnuu1cDpGgNRDevVGq/2Q",
      "include_colab_link": true
    },
    "kernelspec": {
      "name": "python3",
      "display_name": "Python 3"
    },
    "language_info": {
      "name": "python"
    }
  },
  "cells": [
    {
      "cell_type": "markdown",
      "metadata": {
        "id": "view-in-github",
        "colab_type": "text"
      },
      "source": [
        "<a href=\"https://colab.research.google.com/github/HARITHA-14/pythonlab/blob/main/hackerrank_list1.ipynb\" target=\"_parent\"><img src=\"https://colab.research.google.com/assets/colab-badge.svg\" alt=\"Open In Colab\"/></a>"
      ]
    },
    {
      "cell_type": "code",
      "execution_count": null,
      "metadata": {
        "id": "gHB7mdykYvsb"
      },
      "outputs": [],
      "source": [
        "'''Given the participants' score sheet for your University Sports Day, you are required to find the runner-up score. You are given  scores. Store them in a list and find the score of the runner-up.\n",
        "Input Format\n",
        "The first line contains . The second line contains an array   of  integers each separated by a space.\n",
        "Constraints'''\n"
      ]
    },
    {
      "cell_type": "code",
      "source": [
        "if __name__ == '__main__':\n",
        "    n = int(input())\n",
        "    arr = map(int, input().split())\n",
        "arr=sorted(arr,reverse=True)\n",
        "for i in range(len(arr)):\n",
        "        if arr[i]==arr[0]:\n",
        "            continue\n",
        "        else:\n",
        "            print(arr[i])  \n",
        "            break\n",
        "\n"
      ],
      "metadata": {
        "colab": {
          "base_uri": "https://localhost:8080/"
        },
        "id": "dm8LXq4UY4Ba",
        "outputId": "e17ddd28-9ffc-4036-b442-cbacca211eff"
      },
      "execution_count": 4,
      "outputs": [
        {
          "name": "stdout",
          "output_type": "stream",
          "text": [
            "345\n",
            "4\n"
          ]
        }
      ]
    },
    {
      "cell_type": "code",
      "source": [],
      "metadata": {
        "id": "6h2_qDKXZvXp"
      },
      "execution_count": null,
      "outputs": []
    }
  ]
}