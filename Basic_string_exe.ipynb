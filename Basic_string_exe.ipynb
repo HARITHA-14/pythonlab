{
  "nbformat": 4,
  "nbformat_minor": 0,
  "metadata": {
    "colab": {
      "provenance": [],
      "authorship_tag": "ABX9TyMaXHZise+Ynd8rZo5q7TE3",
      "include_colab_link": true
    },
    "kernelspec": {
      "name": "python3",
      "display_name": "Python 3"
    },
    "language_info": {
      "name": "python"
    }
  },
  "cells": [
    {
      "cell_type": "markdown",
      "metadata": {
        "id": "view-in-github",
        "colab_type": "text"
      },
      "source": [
        "<a href=\"https://colab.research.google.com/github/HARITHA-14/pythonlab/blob/main/Basic_string_exe.ipynb\" target=\"_parent\"><img src=\"https://colab.research.google.com/assets/colab-badge.svg\" alt=\"Open In Colab\"/></a>"
      ]
    },
    {
      "cell_type": "code",
      "source": [
        "'''Create 3 variables to store street, city and country, now create address variable to store entire address. Use two ways of creating this variable, one using + operator and the other using f-string. Now Print the address in such a way that the street, city and country prints in a separate line'''"
      ],
      "metadata": {
        "id": "tBhtGPHgXQEr"
      },
      "execution_count": null,
      "outputs": []
    },
    {
      "cell_type": "code",
      "execution_count": 3,
      "metadata": {
        "colab": {
          "base_uri": "https://localhost:8080/"
        },
        "id": "MHitDlXyVnWW",
        "outputId": "5b1fdf9b-23e7-470c-c5e6-7f6a8dafab05"
      },
      "outputs": [
        {
          "output_type": "stream",
          "name": "stdout",
          "text": [
            "v\n",
            "h\n",
            "i\n",
            "v, h, i\n"
          ]
        }
      ],
      "source": [
        "store_street = str(input())\n",
        "city = str(input())\n",
        "country = str(input())\n",
        "print(f'{store_street}, {city}, {country}')"
      ]
    },
    {
      "cell_type": "code",
      "source": [
        "print(store_street ,city ,country, sep=', ')"
      ],
      "metadata": {
        "colab": {
          "base_uri": "https://localhost:8080/"
        },
        "id": "h7_eKLIvW2Kc",
        "outputId": "027f5357-d8b6-4399-c78a-cfa687a0870d"
      },
      "execution_count": 8,
      "outputs": [
        {
          "output_type": "stream",
          "name": "stdout",
          "text": [
            "v, h, i\n"
          ]
        }
      ]
    },
    {
      "cell_type": "code",
      "source": [
        "'''Create a variable to store the string \"Earth revolves around the sun\"\n",
        "Print \"revolves\" using slice operator\n",
        "Print \"sun\" using negative index'''"
      ],
      "metadata": {
        "id": "pdEmwGWhXW0c"
      },
      "execution_count": null,
      "outputs": []
    },
    {
      "cell_type": "code",
      "source": [
        "a = \"Earth revolves around the sun\"\n",
        "print(a[6:15])\n",
        "print(a[-3:])"
      ],
      "metadata": {
        "colab": {
          "base_uri": "https://localhost:8080/"
        },
        "id": "fj1PV0wvXcLp",
        "outputId": "949c03e9-82bf-4c7c-9f5d-76998710695e"
      },
      "execution_count": 14,
      "outputs": [
        {
          "output_type": "stream",
          "name": "stdout",
          "text": [
            "revolves \n",
            "sun\n"
          ]
        }
      ]
    },
    {
      "cell_type": "code",
      "source": [
        "'''Create two variables to store how many fruits and vegetables you eat in a day. Now Print \"I eat x veggies and y fruits daily\" where x and y presents vegetables and fruits that you eat everyday. Use python f string for this.'''"
      ],
      "metadata": {
        "id": "itJsEAh2Z1hX"
      },
      "execution_count": null,
      "outputs": []
    },
    {
      "cell_type": "code",
      "source": [
        "a = [ ]\n",
        "b = [ ]\n",
        "n= int(input())\n",
        "y = int(input())\n",
        "for i in range(n):\n",
        "  a.append(i)\n",
        "for j in range(y):\n",
        "  b.append(j)\n",
        "a= len(a)\n",
        "b= len(b)\n",
        "print(f'I eat {a} veggies and {b} fruits daily')\n",
        "\n"
      ],
      "metadata": {
        "colab": {
          "base_uri": "https://localhost:8080/"
        },
        "id": "8-Ce8pBsYjjz",
        "outputId": "7290f26f-2b80-4ccc-aa86-b5d974ac82e1"
      },
      "execution_count": 17,
      "outputs": [
        {
          "output_type": "stream",
          "name": "stdout",
          "text": [
            "5\n",
            "2\n",
            "I eat 5 veggies and 2 fruits daily\n"
          ]
        }
      ]
    },
    {
      "cell_type": "code",
      "source": [
        "'''I have a string variable called s='maine 200 banana khaye'. This of course is a wrong statement, the correct statement is 'maine 10 samosa khaye'. Replace incorrect words in original strong with new ones and print the new string. Also try to do this in one line.'''"
      ],
      "metadata": {
        "id": "VpcgibdzYe9C"
      },
      "execution_count": null,
      "outputs": []
    },
    {
      "cell_type": "code",
      "source": [
        "s= 'maine 200 banana khaye'\n",
        "s= s.replace('200', '10').replace('banana', 'samosa')\n",
        "print(s)"
      ],
      "metadata": {
        "colab": {
          "base_uri": "https://localhost:8080/"
        },
        "id": "WPRFs9ikavK5",
        "outputId": "b60b7b47-c484-40b6-c8b8-53b057707322"
      },
      "execution_count": 19,
      "outputs": [
        {
          "output_type": "stream",
          "name": "stdout",
          "text": [
            "maine 10 samosa khaye\n"
          ]
        }
      ]
    }
  ]
}