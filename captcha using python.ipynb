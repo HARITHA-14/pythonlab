{
  "nbformat": 4,
  "nbformat_minor": 0,
  "metadata": {
    "colab": {
      "name": "Untitled7.ipynb",
      "provenance": [],
      "collapsed_sections": [],
      "authorship_tag": "ABX9TyOpzF4vlBxAZyPjoAdT0Wwm",
      "include_colab_link": true
    },
    "kernelspec": {
      "name": "python3",
      "display_name": "Python 3"
    },
    "language_info": {
      "name": "python"
    }
  },
  "cells": [
    {
      "cell_type": "markdown",
      "metadata": {
        "id": "view-in-github",
        "colab_type": "text"
      },
      "source": [
        "<a href=\"https://colab.research.google.com/github/HARITHA-14/pythonlab/blob/main/captcha%20using%20python.ipynb\" target=\"_parent\"><img src=\"https://colab.research.google.com/assets/colab-badge.svg\" alt=\"Open In Colab\"/></a>"
      ]
    },
    {
      "cell_type": "code",
      "execution_count": 1,
      "metadata": {
        "colab": {
          "base_uri": "https://localhost:8080/"
        },
        "id": "rnKBbf038nT3",
        "outputId": "72b8258a-a52f-4725-ae52-53d74428d119"
      },
      "outputs": [
        {
          "output_type": "stream",
          "name": "stdout",
          "text": [
            "Collecting captcha\n",
            "  Downloading captcha-0.4-py3-none-any.whl (102 kB)\n",
            "\u001b[?25l\r\u001b[K     |███▏                            | 10 kB 17.2 MB/s eta 0:00:01\r\u001b[K     |██████▍                         | 20 kB 23.2 MB/s eta 0:00:01\r\u001b[K     |█████████▋                      | 30 kB 18.6 MB/s eta 0:00:01\r\u001b[K     |████████████▉                   | 40 kB 15.8 MB/s eta 0:00:01\r\u001b[K     |████████████████                | 51 kB 7.8 MB/s eta 0:00:01\r\u001b[K     |███████████████████▏            | 61 kB 9.1 MB/s eta 0:00:01\r\u001b[K     |██████████████████████▍         | 71 kB 8.5 MB/s eta 0:00:01\r\u001b[K     |█████████████████████████▋      | 81 kB 9.0 MB/s eta 0:00:01\r\u001b[K     |████████████████████████████▊   | 92 kB 9.9 MB/s eta 0:00:01\r\u001b[K     |████████████████████████████████| 102 kB 10.9 MB/s eta 0:00:01\r\u001b[K     |████████████████████████████████| 102 kB 10.9 MB/s \n",
            "\u001b[?25hRequirement already satisfied: Pillow in /usr/local/lib/python3.7/dist-packages (from captcha) (7.1.2)\n",
            "Installing collected packages: captcha\n",
            "Successfully installed captcha-0.4\n"
          ]
        }
      ],
      "source": [
        "!pip install captcha"
      ]
    },
    {
      "cell_type": "code",
      "source": [
        "from captcha.image import ImageCaptcha"
      ],
      "metadata": {
        "id": "yIfYah5A8wml"
      },
      "execution_count": 2,
      "outputs": []
    },
    {
      "cell_type": "code",
      "source": [
        "cap = ImageCaptcha(width=100,height=100)\n",
        "cap = cap.generate_image(\"hari\")\n",
        "cap.show()"
      ],
      "metadata": {
        "id": "iEVU1xEb8-p7"
      },
      "execution_count": 3,
      "outputs": []
    },
    {
      "cell_type": "code",
      "source": [
        "cap = ImageCaptcha(width=100,height=100)\n",
        "cap = cap.create_captcha_image(\"anything\",color='green',background='orange')\n",
        "cap.show()"
      ],
      "metadata": {
        "id": "4eh8KFVugJXf"
      },
      "execution_count": 4,
      "outputs": []
    },
    {
      "cell_type": "code",
      "source": [
        "import random"
      ],
      "metadata": {
        "id": "Ke_s7ULzirE1"
      },
      "execution_count": 12,
      "outputs": []
    },
    {
      "cell_type": "code",
      "source": [
        "num = random.randint(1000,9999)\n",
        "cap = ImageCaptcha(width=100,height=100)\n",
        "cap = cap.create_captcha_image(str(num),color='green',background='orange')\n",
        "cap.show()"
      ],
      "metadata": {
        "id": "ndcAdmkZi0tQ"
      },
      "execution_count": 15,
      "outputs": []
    },
    {
      "cell_type": "code",
      "source": [
        "#run the same in command prompt\n"
      ],
      "metadata": {
        "id": "tU0O1uKktXx3"
      },
      "execution_count": null,
      "outputs": []
    }
  ]
}