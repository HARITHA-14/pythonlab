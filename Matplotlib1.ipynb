{
  "nbformat": 4,
  "nbformat_minor": 0,
  "metadata": {
    "colab": {
      "name": "Matplotlib1.ipynb",
      "provenance": [],
      "include_colab_link": true
    },
    "kernelspec": {
      "name": "python3",
      "display_name": "Python 3"
    },
    "language_info": {
      "name": "python"
    }
  },
  "cells": [
    {
      "cell_type": "markdown",
      "metadata": {
        "id": "view-in-github",
        "colab_type": "text"
      },
      "source": [
        "<a href=\"https://colab.research.google.com/github/HARITHA-14/pythonlab/blob/main/Matplotlib1.ipynb\" target=\"_parent\"><img src=\"https://colab.research.google.com/assets/colab-badge.svg\" alt=\"Open In Colab\"/></a>"
      ]
    },
    {
      "cell_type": "markdown",
      "metadata": {
        "id": "KC2yNrg4HN92"
      },
      "source": [
        "**Draw 4 bars**"
      ]
    },
    {
      "cell_type": "code",
      "metadata": {
        "id": "gFxyy3OFHHbM",
        "colab": {
          "base_uri": "https://localhost:8080/",
          "height": 265
        },
        "outputId": "0f625301-799c-4f33-e6cf-6abacbe92ce2"
      },
      "source": [
        "import matplotlib.pyplot as plt\n",
        "import numpy as np\n",
        "\n",
        "x = np.array([\"A\", \"B\", \"C\", \"D\",\"E\"])\n",
        "y = np.array([3, 8, 1, 10,15])\n",
        "\n",
        "plt.bar(x,y)\n",
        "plt.show()"
      ],
      "execution_count": 2,
      "outputs": [
        {
          "output_type": "display_data",
          "data": {
            "image/png": "[encoded data removed]",
            "text/plain": [
              "<Figure size 432x288 with 1 Axes>"
            ]
          },
          "metadata": {
            "needs_background": "light"
          }
        }
      ]
    },
    {
      "cell_type": "markdown",
      "metadata": {
        "id": "tdQdpTlCHiXH"
      },
      "source": [
        "**Draw 4 horizontal bars**"
      ]
    },
    {
      "cell_type": "code",
      "metadata": {
        "id": "166iomSEHkko",
        "colab": {
          "base_uri": "https://localhost:8080/",
          "height": 265
        },
        "outputId": "68a6fc58-bf42-4fca-d244-7e6ad867487b"
      },
      "source": [
        "import matplotlib.pyplot as plt\n",
        "import numpy as np\n",
        "\n",
        "x = np.array([\"A\", \"B\", \"C\", \"D\"])\n",
        "y = np.array([3, 8, 1, 10])\n",
        "\n",
        "plt.barh(x, y)\n",
        "plt.show()"
      ],
      "execution_count": 3,
      "outputs": [
        {
          "output_type": "display_data",
          "data": {
            "image/png": "[encoded data removed]",
            "text/plain": [
              "<Figure size 432x288 with 1 Axes>"
            ]
          },
          "metadata": {
            "needs_background": "light"
          }
        }
      ]
    },
    {
      "cell_type": "markdown",
      "metadata": {
        "id": "ONHGJLY4Hpb8"
      },
      "source": [
        "**Draw 4 red bars**"
      ]
    },
    {
      "cell_type": "code",
      "metadata": {
        "id": "lZNfG32mHw1U",
        "colab": {
          "base_uri": "https://localhost:8080/",
          "height": 265
        },
        "outputId": "8a86fcdf-575d-4814-9d16-dd1ca157e4ea"
      },
      "source": [
        "import matplotlib.pyplot as plt\n",
        "import numpy as np\n",
        "\n",
        "x = np.array([\"A\", \"B\", \"C\", \"D\"])\n",
        "y = np.array([3, 8, 1, 10])\n",
        "\n",
        "plt.bar(x, y, color = \"green\")\n",
        "plt.show()"
      ],
      "execution_count": 6,
      "outputs": [
        {
          "output_type": "display_data",
          "data": {
            "image/png": "[encoded data removed]",
            "text/plain": [
              "<Figure size 432x288 with 1 Axes>"
            ]
          },
          "metadata": {
            "needs_background": "light"
          }
        }
      ]
    },
    {
      "cell_type": "markdown",
      "metadata": {
        "id": "qb3W9-jFIr9c"
      },
      "source": [
        "**Normal Data Distribution**"
      ]
    },
    {
      "cell_type": "code",
      "metadata": {
        "id": "T5taVdHSIxak",
        "colab": {
          "base_uri": "https://localhost:8080/"
        },
        "outputId": "c6fffb80-495a-4a5f-8a8d-0f855dbaaf17"
      },
      "source": [
        "import numpy as np\n",
        "\n",
        "x = np.random.normal(170, 10, 250)\n",
        "\n",
        "print(x)"
      ],
      "execution_count": 7,
      "outputs": [
        {
          "output_type": "stream",
          "name": "stdout",
          "text": [
            "[171.47790419 159.11016762 160.86177634 183.86800541 177.35752148\n",
            " 174.90894765 179.67462177 164.49369323 160.79391863 155.11015817\n",
            " 146.68661996 158.24679412 175.22009792 178.35822714 175.53847459\n",
            " 180.34734483 166.51935676 160.07301194 162.83246301 178.57396799\n",
            " 176.67272795 172.83188087 163.61471276 197.64699678 168.87738401\n",
            " 178.1918346  182.21604876 160.29484021 162.3326888  173.44499019\n",
            " 173.39502448 161.46611471 167.35387193 177.15252513 162.99627485\n",
            " 187.53962223 165.32073173 173.58343879 169.14621817 158.54923407\n",
            " 170.0026728  153.94975996 146.66675266 194.6153667  165.03528688\n",
            " 177.51630655 186.11611572 183.02593772 168.58310496 162.09621382\n",
            " 168.5133117  168.32045583 202.61087388 168.287122   168.51617855\n",
            " 171.14298998 180.99998327 165.91879049 158.2326364  187.34974559\n",
            " 178.21454308 157.43728136 175.56387807 158.59738137 152.94482945\n",
            " 167.32061049 158.91881858 169.9668687  149.77938669 180.51481978\n",
            " 186.96334291 163.71722662 163.18638914 144.74472729 172.02712752\n",
            " 188.70123944 180.50286271 168.14157739 168.02225198 191.99679185\n",
            " 159.01542135 169.48139523 181.57387349 175.52241394 154.76143281\n",
            " 167.84228342 158.85767609 157.85669004 158.24417044 187.2340454\n",
            " 167.59337473 165.01695998 166.80328554 176.05527013 173.55722659\n",
            " 179.13349596 165.98601429 189.08426224 165.6754264  174.69082445\n",
            " 161.17937182 179.49490486 175.34482136 173.07244949 166.90663999\n",
            " 156.0496988  191.43639685 165.31398026 165.95664096 162.46627199\n",
            " 155.3158573  172.42411559 163.90395184 158.55817701 169.73894539\n",
            " 186.18457103 170.06893642 161.71274533 162.59553675 181.7638514\n",
            " 169.5576722  173.37023494 166.97991087 178.94844285 159.34435687\n",
            " 171.06255123 170.39975659 173.31763283 169.98897183 177.07210903\n",
            " 190.30039953 146.06854004 158.2132528  153.90315224 172.44400895\n",
            " 153.1977186  176.20609511 147.18899184 160.30369608 164.24251095\n",
            " 158.09545809 165.57874496 172.90943961 172.63460742 162.15523232\n",
            " 160.23320692 175.22950417 174.85109894 164.39762546 162.9240596\n",
            " 166.84367207 167.82840162 173.46998546 154.80561258 172.44699385\n",
            " 167.95475905 161.96259581 167.60768848 160.90650709 161.80177046\n",
            " 164.98797885 177.68215766 142.26122713 185.41310056 171.93159302\n",
            " 189.0815292  171.17729192 169.13153906 147.87387175 172.06632243\n",
            " 165.4463414  168.92720866 178.66148307 168.53169839 147.84135573\n",
            " 174.33096214 191.39024624 171.13814732 166.0186643  171.64501666\n",
            " 169.16889121 159.53706138 170.42034608 166.25819772 179.88572022\n",
            " 164.29766722 162.76212943 175.01935379 181.20285948 157.72857698\n",
            " 184.12268318 180.05585745 179.27536552 182.0125353  168.52135669\n",
            " 160.72042133 163.59204455 176.50010643 164.81000773 170.42054082\n",
            " 155.35903429 172.65232469 170.00797842 165.24518673 177.41170619\n",
            " 158.53142629 172.34596589 145.85959633 159.89783354 169.4643915\n",
            " 171.66515829 176.50610412 180.09619747 169.9985984  188.06156836\n",
            " 167.89938924 174.37329829 187.3054105  178.46938392 164.54459687\n",
            " 165.37629255 180.71242959 159.10790369 162.12154354 174.42901361\n",
            " 190.99703009 185.69383032 154.12188576 166.70431757 170.25708012\n",
            " 148.29765984 169.1247157  174.145536   172.25916486 164.97224285\n",
            " 169.42690977 160.69294647 175.45327756 163.24424926 168.92473737\n",
            " 181.14586831 184.99192152 178.72762889 163.00853538 171.84821245\n",
            " 159.5478666  177.65089701 186.96240184 165.99665767 170.77496542]\n"
          ]
        }
      ]
    },
    {
      "cell_type": "markdown",
      "metadata": {
        "id": "yWxDtTbnJGYV"
      },
      "source": [
        "**A simple histogram**"
      ]
    },
    {
      "cell_type": "code",
      "metadata": {
        "id": "-S51Bt5eJIpE",
        "colab": {
          "base_uri": "https://localhost:8080/",
          "height": 265
        },
        "outputId": "a3414e29-bac6-4bc9-9d70-d2644c797283"
      },
      "source": [
        "import matplotlib.pyplot as plt\n",
        "import numpy as np\n",
        "\n",
        "x = np.random.normal(170, 10, 250)\n",
        "\n",
        "plt.hist(x)\n",
        "plt.show() "
      ],
      "execution_count": 8,
      "outputs": [
        {
          "output_type": "display_data",
          "data": {
            "image/png": "[encoded data removed]",
            "text/plain": [
              "<Figure size 432x288 with 1 Axes>"
            ]
          },
          "metadata": {
            "needs_background": "light"
          }
        }
      ]
    },
    {
      "cell_type": "markdown",
      "metadata": {
        "id": "aZG7gLW0JQrz"
      },
      "source": [
        "**A simple pie chart**"
      ]
    },
    {
      "cell_type": "code",
      "metadata": {
        "id": "A6W0MEwrJSaj",
        "colab": {
          "base_uri": "https://localhost:8080/",
          "height": 248
        },
        "outputId": "31757733-8113-4373-ba80-471eed224900"
      },
      "source": [
        "import matplotlib.pyplot as plt\n",
        "import numpy as np\n",
        "\n",
        "y = np.array([35, 25, 25, 15])\n",
        "mylabels = [\"Apples\", \"Bananas\", \"Cherries\", \"Dates\"]\n",
        "\n",
        "mylabels = [\"Apples\", \"Bananas\", \"Cherries\", \"Dates\"]\n",
        "myexplode = [0.2, 0, 0, 0]\n",
        "\n",
        "plt.pie(y, labels = mylabels, explode = myexplode)\n",
        "\n",
        "\n",
        "plt.show()"
      ],
      "execution_count": 12,
      "outputs": [
        {
          "output_type": "display_data",
          "data": {
            "image/png": "[encoded data removed]",
            "text/plain": [
              "<Figure size 432x288 with 1 Axes>"
            ]
          },
          "metadata": {}
        }
      ]
    },
    {
      "cell_type": "markdown",
      "metadata": {
        "id": "qN2hX0W_Jbe0"
      },
      "source": [
        "**A simple pie chart with labels**"
      ]
    },
    {
      "cell_type": "code",
      "metadata": {
        "id": "4N7uX95sJeoc",
        "colab": {
          "base_uri": "https://localhost:8080/",
          "height": 248
        },
        "outputId": "cb68b5ec-31fe-41bb-f81a-bd66cbeb41e9"
      },
      "source": [
        "import matplotlib.pyplot as plt\n",
        "import numpy as np\n",
        "\n",
        "y = np.array([35, 25, 25, 15])\n",
        "mylabels = [\"Apples\", \"Bananas\", \"Cherries\", \"Dates\"]\n",
        "\n",
        "plt.pie(y, labels = mylabels)\n",
        "plt.show() "
      ],
      "execution_count": 10,
      "outputs": [
        {
          "output_type": "display_data",
          "data": {
            "image/png": "[encoded data removed]",
            "text/plain": [
              "<Figure size 432x288 with 1 Axes>"
            ]
          },
          "metadata": {}
        }
      ]
    },
    {
      "cell_type": "markdown",
      "metadata": {
        "id": "fmm2KxFLJtst"
      },
      "source": [
        "**Pull the \"Apples\" wedge 0.2 from the center of the pie**"
      ]
    },
    {
      "cell_type": "code",
      "metadata": {
        "id": "GUfoU5qpJvQv",
        "colab": {
          "base_uri": "https://localhost:8080/",
          "height": 248
        },
        "outputId": "57fd66a4-ed7b-4ddf-e362-c0d8a276197c"
      },
      "source": [
        "import matplotlib.pyplot as plt\n",
        "import numpy as np\n",
        "\n",
        "y = np.array([35, 25, 25, 15])\n",
        "mylabels = [\"Apples\", \"Bananas\", \"Cherries\", \"Dates\"]\n",
        "myexplode = [0.2, 0, 0, 0]\n",
        "\n",
        "plt.pie(y, labels = mylabels, explode = myexplode)\n",
        "plt.show() "
      ],
      "execution_count": 13,
      "outputs": [
        {
          "output_type": "display_data",
          "data": {
            "image/png": "[encoded data removed]",
            "text/plain": [
              "<Figure size 432x288 with 1 Axes>"
            ]
          },
          "metadata": {}
        }
      ]
    },
    {
      "cell_type": "markdown",
      "metadata": {
        "id": "ltZFbymbJ4BL"
      },
      "source": [
        "**Add a legend**"
      ]
    },
    {
      "cell_type": "code",
      "metadata": {
        "id": "p3iCTvd0J6R0",
        "colab": {
          "base_uri": "https://localhost:8080/",
          "height": 248
        },
        "outputId": "575e12db-37d1-4938-bf9f-a0f28ea4537b"
      },
      "source": [
        "import matplotlib.pyplot as plt\n",
        "import numpy as np\n",
        "\n",
        "y = np.array([35, 25, 25, 15])\n",
        "mylabels = [\"Apples\", \"Bananas\", \"Cherries\", \"Dates\"]\n",
        "\n",
        "plt.pie(y, labels = mylabels)\n",
        "plt.legend()\n",
        "plt.show() "
      ],
      "execution_count": 14,
      "outputs": [
        {
          "output_type": "display_data",
          "data": {
            "image/png": "[encoded data removed]",
            "text/plain": [
              "<Figure size 432x288 with 1 Axes>"
            ]
          },
          "metadata": {}
        }
      ]
    },
    {
      "cell_type": "markdown",
      "metadata": {
        "id": "OTcod6WcKEdt"
      },
      "source": [
        "**Add a legend with a header**"
      ]
    },
    {
      "cell_type": "code",
      "metadata": {
        "id": "UWUrn9psKG9Q",
        "colab": {
          "base_uri": "https://localhost:8080/",
          "height": 248
        },
        "outputId": "fb258d9d-3d32-4eed-cb47-dfe2e55f156d"
      },
      "source": [
        "import matplotlib.pyplot as plt\n",
        "import numpy as np\n",
        "\n",
        "y = np.array([35, 25, 25, 15])\n",
        "mylabels = [\"Apples\", \"Bananas\", \"Cherries\", \"Dates\"]\n",
        "\n",
        "plt.pie(y, labels = mylabels)\n",
        "plt.legend(title = \"Four Fruits:\")\n",
        "plt.show() "
      ],
      "execution_count": 15,
      "outputs": [
        {
          "output_type": "display_data",
          "data": {
            "image/png": "[encoded data removed]",
            "text/plain": [
              "<Figure size 432x288 with 1 Axes>"
            ]
          },
          "metadata": {}
        }
      ]
    },
    {
      "cell_type": "markdown",
      "metadata": {
        "id": "0bmyM3krLk98"
      },
      "source": [
        "**Box Plot**"
      ]
    },
    {
      "cell_type": "code",
      "metadata": {
        "id": "Nfsky29QLiP5",
        "colab": {
          "base_uri": "https://localhost:8080/",
          "height": 282
        },
        "outputId": "d8214b1d-c275-436c-a4c8-7f73dd865f62"
      },
      "source": [
        "import pandas as pd\n",
        "import numpy as np\n",
        "df = pd.DataFrame(np.random.rand(10, 5), columns=['A', 'B', 'C', 'D', 'E'])\n",
        "df.plot.box(grid='false')"
      ],
      "execution_count": 19,
      "outputs": [
        {
          "output_type": "execute_result",
          "data": {
            "text/plain": [
              "<matplotlib.axes._subplots.AxesSubplot at 0x7f2abbb8d310>"
            ]
          },
          "metadata": {},
          "execution_count": 19
        },
        {
          "output_type": "display_data",
          "data": {
            "image/png": "[encoded data removed]",
            "text/plain": [
              "<Figure size 432x288 with 1 Axes>"
            ]
          },
          "metadata": {
            "needs_background": "light"
          }
        }
      ]
    }
  ]
}